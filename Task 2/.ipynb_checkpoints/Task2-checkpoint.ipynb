{
 "cells": [
  {
   "cell_type": "markdown",
   "id": "df24d613-b7fb-4562-850f-d12414a4e3be",
   "metadata": {},
   "source": [
    "# Assignment A4 This Jupyter Notebook file is very simple. First, a shapefile is loaded using GeoPandas and then visualized."
   ]
  },
  {
   "cell_type": "code",
   "execution_count": null,
   "id": "b9c09d01-29bc-4b71-a791-dbff09a70bba",
   "metadata": {},
   "outputs": [],
   "source": []
  },
  {
   "cell_type": "code",
   "execution_count": null,
   "id": "338b1b1c-ea16-4f8c-9186-ece3952f4eca",
   "metadata": {},
   "outputs": [],
   "source": []
  }
 ],
 "metadata": {
  "kernelspec": {
   "display_name": "Python [conda env:unigis]",
   "language": "python",
   "name": "conda-env-unigis-py"
  },
  "language_info": {
   "codemirror_mode": {
    "name": "ipython",
    "version": 3
   },
   "file_extension": ".py",
   "mimetype": "text/x-python",
   "name": "python",
   "nbconvert_exporter": "python",
   "pygments_lexer": "ipython3",
   "version": "3.10.18"
  }
 },
 "nbformat": 4,
 "nbformat_minor": 5
}
